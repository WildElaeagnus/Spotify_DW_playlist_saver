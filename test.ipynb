{
 "cells": [
  {
   "cell_type": "code",
   "execution_count": 111,
   "source": [
    "# save discover weekly playlist\r\n",
    "import requests\r\n",
    "import SpotifyAPI\r\n",
    "import configparser\r\n",
    "from urllib.parse import urlencode\r\n",
    "\r\n",
    "# read file with auth info if it not exist then create it\r\n",
    "try:    \r\n",
    "    with open(\"auth_info.txt\", \"r+\") as f:\r\n",
    "        print(f.readlines())\r\n",
    "        config = configparser.ConfigParser()\r\n",
    "        config.read(\"auth_info.txt\")\r\n",
    "        client_id = str(config.get(\"Spotify_auth_info\", \"client_id\"))\r\n",
    "        client_secret = str(config.get(\"Spotify_auth_info\", \"client_secret\"))\r\n",
    "        user_id = str(config.get(\"Spotify_auth_info\", \"user_id\"))\r\n",
    "except FileNotFoundError:\r\n",
    "    with open(\"auth_info.txt\", \"w+\") as f:\r\n",
    "        f.write('[Spotify_auth_info]\\nclient_id: \\nclient_secret: \\nuser_id: \\n')\r\n",
    "\r\n",
    "print(f'id: {client_id}\\nsecret: {client_secret}')\r\n",
    "spotify_login = SpotifyAPI.SpotifyAPI(client_id, client_secret)\r\n",
    "print(spotify_login.perform_auth())\r\n",
    "token = spotify_login.access_token\r\n",
    "print(token)\r\n"
   ],
   "outputs": [
    {
     "output_type": "stream",
     "name": "stdout",
     "text": [
      "['[Spotify_auth_info]\\n', 'client_id: f70377e4b42340178d8839ff58dc61b8\\n', 'client_secret: 25568d1f9110471190a2e4dfc723bd26\\n', 'user_id: sltyljtam3wzcb28yeowsxcn4\\n']\n",
      "id: f70377e4b42340178d8839ff58dc61b8\n",
      "secret: 25568d1f9110471190a2e4dfc723bd26\n",
      "True\n",
      "BQAU0Rt_eRbYWUjzaz4VnDzysl7aF3vnE3f9bPMU6kGcv9YD-FTGG1PRmu9j3z4RXEsYk1Sfigy_M0UZWAY\n"
     ]
    }
   ],
   "metadata": {}
  },
  {
   "cell_type": "code",
   "execution_count": 119,
   "source": [
    "# how to use token\r\n",
    "# user_id = 'sltyljtam3wzcb28yeowsxcn4'\r\n",
    "pl_endpoint = f'https://api.spotify.com/v1/users/{user_id}/playlists'\r\n",
    "sh_endpoint = f'https://api.spotify.com/v1/search'\r\n",
    "headers = {\r\n",
    "    \"Authorization\": f\"Bearer {token}\"\r\n",
    "}\r\n",
    "data = urlencode({\"q\": \"time\", \"type\": \"track\"})\r\n",
    "pl_data = urlencode({\"limit\": 50})\r\n",
    "q_url = f'{pl_endpoint}?{pl_data}'\r\n",
    "r = requests.get(q_url, headers=headers)\r\n",
    "# print(r.json())\r\n",
    "r"
   ],
   "outputs": [
    {
     "output_type": "execute_result",
     "data": {
      "text/plain": [
       "<Response [200]>"
      ]
     },
     "metadata": {},
     "execution_count": 119
    }
   ],
   "metadata": {}
  },
  {
   "cell_type": "code",
   "execution_count": 113,
   "source": [
    "# r.json()\r\n",
    "import json\r\n",
    "loaded_json = json.loads(r.text)\r\n",
    "type(loaded_json)\r\n",
    "# loaded_json.items()\r\n",
    "items = loaded_json['items']\r\n",
    "for i in items:\r\n",
    "\t# if i == 'name': print(i)\r\n",
    "\t# print(i['name'])\r\n",
    "\tif i['name'] == 'Discover Weekly':\r\n",
    "\t\tDW_playlist_url = i['external_urls']\r\n",
    "\t\tprint(f'url: {DW_playlist_url}')\r\n",
    "\t\tDW_playlist_href = i['href']\r\n",
    "\t\tprint(f'href: {DW_playlist_href}')\r\n",
    "# find DW playlist id\r\n",
    "DW_id = DW_playlist_href.split(\"/\")[-1]\r\n"
   ],
   "outputs": [
    {
     "output_type": "stream",
     "name": "stdout",
     "text": [
      "url: {'spotify': 'https://open.spotify.com/playlist/37i9dQZEVXcWlsrx2rT0bU'}\n",
      "href: https://api.spotify.com/v1/playlists/37i9dQZEVXcWlsrx2rT0bU\n"
     ]
    }
   ],
   "metadata": {}
  },
  {
   "cell_type": "code",
   "execution_count": 114,
   "source": [
    "def url(pl_endpoint, pl_data):\r\n",
    "    '''form a valid url from endpoint and data'''\r\n",
    "    return f'{pl_endpoint}?{pl_data}'\r\n",
    "\r\n",
    "# header for request\r\n",
    "headers = {\r\n",
    "    \"Authorization\": f\"Bearer {token}\"\r\n",
    "}\r\n",
    "# create dict with tracks ids and names from req\r\n",
    "pl_endpoint = f'https://api.spotify.com/v1/playlists/{DW_id}/tracks'\r\n",
    "pl_data = urlencode({\"market\": \"Ru\"})\r\n",
    "r = requests.get(url(pl_endpoint, pl_data), headers=headers)\r\n",
    "loaded_json = json.loads(r.text)\r\n",
    "items = loaded_json['items']\r\n",
    "tracks_dw = {}\r\n",
    "# id is a key cuz names can be same\r\n",
    "for i in range(loaded_json['total']):\r\n",
    "    j = items[i]['track']\r\n",
    "    tracks_dw[j['id']] = j['name']\r\n",
    "# tracks_dw\r\n",
    "\r\n"
   ],
   "outputs": [],
   "metadata": {}
  },
  {
   "cell_type": "code",
   "execution_count": 126,
   "source": [
    "# req to get currently playing song\r\n",
    "# token = 'BQAHCTKg2YoU0IVhyV6vkN9SfTQESWzYxBsuy77y_LS-Qj1kAnFPW569PpdPdoy9820WXD7GMIE7tYFrtfgNYTZhvbmon-tqemGncndgBHzKP7durqmcQ3JonPgDaNfWqQ6u7XsZ7oH9KgU90W1POGPvEYz9wyo1LdxspAtOTK0Mx2aZaPy3nVa9xTjPnEJiG8vSXEGsiBd6OOqP1m2rbgz867ZuKKCaFWnTHL-yT_EpiyHsnmmBsm8SQc6bFCW18y5W3kzjKvwCT1flG-kpIZKYwIasYfouZeHqXaoGFFxJ'\r\n",
    "headers = {\r\n",
    "    \"Authorization\": f\"Bearer {token}\"\r\n",
    "}\r\n",
    "endpoint = \tf'https://api.spotify.com/v1/me/playlists'\r\n",
    "# data = urlencode({\"market\": \"Ru\"})\r\n",
    "data = None\r\n",
    "r = requests.get(url(endpoint, data), headers=headers)\r\n",
    "r\r\n",
    "# for /me req token from SpotifyAPI calss not working\r\n"
   ],
   "outputs": [
    {
     "output_type": "execute_result",
     "data": {
      "text/plain": [
       "<Response [401]>"
      ]
     },
     "metadata": {},
     "execution_count": 126
    }
   ],
   "metadata": {}
  },
  {
   "cell_type": "code",
   "execution_count": 116,
   "source": [
    "r.json()"
   ],
   "outputs": [
    {
     "output_type": "execute_result",
     "data": {
      "text/plain": [
       "{'error': {'status': 404, 'message': 'Invalid username'}}"
      ]
     },
     "metadata": {},
     "execution_count": 116
    }
   ],
   "metadata": {}
  }
 ],
 "metadata": {
  "orig_nbformat": 4,
  "language_info": {
   "name": "python",
   "version": "3.9.6",
   "mimetype": "text/x-python",
   "codemirror_mode": {
    "name": "ipython",
    "version": 3
   },
   "pygments_lexer": "ipython3",
   "nbconvert_exporter": "python",
   "file_extension": ".py"
  },
  "kernelspec": {
   "name": "python3",
   "display_name": "Python 3.9.6 64-bit (windows store)"
  },
  "interpreter": {
   "hash": "7eb93348c79c87eb213870e58d2be80c7f2c869ae6014f68f0055e670743f092"
  }
 },
 "nbformat": 4,
 "nbformat_minor": 2
}