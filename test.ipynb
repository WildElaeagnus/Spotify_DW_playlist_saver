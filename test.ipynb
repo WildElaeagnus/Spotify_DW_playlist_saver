{
 "cells": [
  {
   "cell_type": "code",
   "execution_count": 2,
   "source": [
    "# save discover weekly playlist\r\n",
    "import requests\r\n",
    "import SpotifyAPI\r\n",
    "import configparser\r\n",
    "from urllib.parse import urlencode\r\n",
    "\r\n",
    "# read file with auth info if it not exist then create it\r\n",
    "try:    \r\n",
    "    with open(\"auth_info.txt\", \"r+\") as f:\r\n",
    "        print(f.readlines())\r\n",
    "        config = configparser.ConfigParser()\r\n",
    "        config.read(\"auth_info.txt\")\r\n",
    "        client_id = str(config.get(\"Spotify_auth_info\", \"client_id\"))\r\n",
    "        client_secret = str(config.get(\"Spotify_auth_info\", \"client_secret\"))\r\n",
    "        user_id = str(config.get(\"Spotify_auth_info\", \"user_id\"))\r\n",
    "except FileNotFoundError:\r\n",
    "    with open(\"auth_info.txt\", \"w+\") as f:\r\n",
    "        f.write('[Spotify_auth_info]\\nclient_id: \\nclient_secret: \\nuser_id: \\n')\r\n",
    "\r\n",
    "print(f'id: {client_id}\\nsecret: {client_secret}')\r\n",
    "spotify_login = SpotifyAPI.SpotifyAPI(client_id, client_secret)\r\n",
    "print(spotify_login.perform_auth())\r\n",
    "token = spotify_login.access_token\r\n",
    "print(token)\r\n"
   ],
   "outputs": [
    {
     "output_type": "stream",
     "name": "stdout",
     "text": [
      "['[Spotify_auth_info]\\n', 'client_id: f70377e4b42340178d8839ff58dc61b8\\n', 'client_secret: 25568d1f9110471190a2e4dfc723bd26\\n', 'user_id: sltyljtam3wzcb28yeowsxcn4\\n', 'web_token: BQD5CM-1xkvatAE4T3v170vhc8N60H0WoU_RlDiFnjAI8sDze_sy_w3F_7DXFY3PDxmt25UrdWLh6eCDCTzC3017twNTKNRjsBKCSGGoFbC-iwEN7iaY8Ku6aBjtKuJ94dCM9ZSdBBDwQLGqnGK1BX-SS3i7uxv-kA9nELSenc4adU97i5-q3VqJTbE_8mCEgKIzEilFzXvqwlX5JwXHYtAbFxZwpOYd2uR4LRJ0ue8IgI6bcm7pGgKnc3wVm--pl5e7CSdnKw8VVt5k7nW_eNv-_F4elHW-8j0KfERoyyEgweb_token: BQBVUkCKgpit15dScxHZ0oJo38D2aZXaeRoCczYj7ONKLSKhsWymFKeXOj6tr_nBdXYkQcIJjwFN3GfGauB_ZUefJowj0Lt8b_i7Gqd06b1atP27tCWiOZUyXU8wxcCueZCVUuq9xdi1nWlLZSwBInkUB7RTNEKZYLVM4j7DlHMpUBm41JfdLUIZw9nVnBJYk8mP4wlucNf3mctLHsSoRBJH5DoBAw7HxQnj6RQedWk3fpn6VsCS0wZEDaPJ4JoPE10fp6YOHjrWY7JRt-niLpZwFgTr3_Ck45A3mDP2yzIZ']\n",
      "id: f70377e4b42340178d8839ff58dc61b8\n",
      "secret: 25568d1f9110471190a2e4dfc723bd26\n",
      "True\n",
      "BQD7W4TssOP0bEYJe5HbC5ql2uuiqyUpzaW7Qn7vsX8Q_g7wT2c5uZURj3i_lYdEzZG0RruzLXhqPmtEwKg\n"
     ]
    }
   ],
   "metadata": {}
  },
  {
   "cell_type": "code",
   "execution_count": 3,
   "source": [
    "# how to use token\r\n",
    "# user_id = 'sltyljtam3wzcb28yeowsxcn4'\r\n",
    "pl_endpoint = f'https://api.spotify.com/v1/users/{user_id}/playlists'\r\n",
    "sh_endpoint = f'https://api.spotify.com/v1/search'\r\n",
    "headers = {\r\n",
    "    \"Authorization\": f\"Bearer {token}\"\r\n",
    "}\r\n",
    "data = urlencode({\"q\": \"time\", \"type\": \"track\"})\r\n",
    "pl_data = urlencode({\"limit\": 50})\r\n",
    "q_url = f'{pl_endpoint}?{pl_data}'\r\n",
    "r = requests.get(q_url, headers=headers)\r\n",
    "# print(r.json())\r\n",
    "r"
   ],
   "outputs": [
    {
     "output_type": "execute_result",
     "data": {
      "text/plain": [
       "<Response [200]>"
      ]
     },
     "metadata": {},
     "execution_count": 3
    }
   ],
   "metadata": {}
  },
  {
   "cell_type": "code",
   "execution_count": 4,
   "source": [
    "# r.json()\r\n",
    "import json\r\n",
    "loaded_json = json.loads(r.text)\r\n",
    "type(loaded_json)\r\n",
    "# loaded_json.items()\r\n",
    "items = loaded_json['items']\r\n",
    "for i in items:\r\n",
    "\t# if i == 'name': print(i)\r\n",
    "\t# print(i['name'])\r\n",
    "\tif i['name'] == 'Discover Weekly':\r\n",
    "\t\tDW_playlist_url = i['external_urls']\r\n",
    "\t\tprint(f'url: {DW_playlist_url}')\r\n",
    "\t\tDW_playlist_href = i['href']\r\n",
    "\t\tprint(f'href: {DW_playlist_href}')\r\n",
    "# find DW playlist id\r\n",
    "DW_id = DW_playlist_href.split(\"/\")[-1]\r\n"
   ],
   "outputs": [
    {
     "output_type": "stream",
     "name": "stdout",
     "text": [
      "url: {'spotify': 'https://open.spotify.com/playlist/37i9dQZEVXcWlsrx2rT0bU'}\n",
      "href: https://api.spotify.com/v1/playlists/37i9dQZEVXcWlsrx2rT0bU\n"
     ]
    }
   ],
   "metadata": {}
  },
  {
   "cell_type": "code",
   "execution_count": 5,
   "source": [
    "def url(pl_endpoint, pl_data):\r\n",
    "    '''form a valid url from endpoint and data'''\r\n",
    "    return f'{pl_endpoint}?{pl_data}'\r\n",
    "\r\n",
    "# header for request\r\n",
    "headers = {\r\n",
    "    \"Authorization\": f\"Bearer {token}\"\r\n",
    "}\r\n",
    "# create dict with tracks ids and names from req\r\n",
    "pl_endpoint = f'https://api.spotify.com/v1/playlists/{DW_id}/tracks'\r\n",
    "pl_data = urlencode({\"market\": \"Ru\"})\r\n",
    "r = requests.get(url(pl_endpoint, pl_data), headers=headers)\r\n",
    "loaded_json = json.loads(r.text)\r\n",
    "items = loaded_json['items']\r\n",
    "tracks_dw = {}\r\n",
    "# id is a key cuz names can be same\r\n",
    "for i in range(loaded_json['total']):\r\n",
    "    j = items[i]['track']\r\n",
    "    tracks_dw[j['id']] = j['name']\r\n",
    "# tracks_dw\r\n",
    "\r\n"
   ],
   "outputs": [],
   "metadata": {}
  },
  {
   "cell_type": "code",
   "execution_count": 123,
   "source": [
    "import web_token\r\n",
    "t = web_token.WebToken()\r\n",
    "w_token = t.get_token()\r\n",
    "w_token "
   ],
   "outputs": [
    {
     "output_type": "execute_result",
     "data": {
      "text/plain": [
       "'BQCoCHuIofMM6xXL55PAc7JLL1g1sYs_LOelZtTs42yECA7q-_i7iQYVai-uf5JxY8x9-unSKdNi27MX6MuEr7QlOOfrpUmXzTVMiS4IkuCtgQdsvp0RrH27jPZK8T-Hutmxa3y6omp_2vym0ElZzyTh4f9OdJAZkRbsOJngpjXD40ym-ksUn0xEnF9nZCnBqomTImUXSc2GjCYQ4bBg4Nro59-SASAEXQAfL0WcycQ_hSE0Kx8p5NJ9cWlHGwNYCy465VADLHQmr5TvfYxqTKVZTP_bRqNQG34CB55RclLu'"
      ]
     },
     "metadata": {},
     "execution_count": 123
    }
   ],
   "metadata": {}
  },
  {
   "cell_type": "code",
   "execution_count": 124,
   "source": [
    "# req to get playlists to make sure that /me works\r\n",
    "# token = 'BQAHCTKg2YoU0IVhyV6vkN9SfTQESWzYxBsuy77y_LS-Qj1kAnFPW569PpdPdoy9820WXD7GMIE7tYFrtfgNYTZhvbmon-tqemGncndgBHzKP7durqmcQ3JonPgDaNfWqQ6u7XsZ7oH9KgU90W1POGPvEYz9wyo1LdxspAtOTK0Mx2aZaPy3nVa9xTjPnEJiG8vSXEGsiBd6OOqP1m2rbgz867ZuKKCaFWnTHL-yT_EpiyHsnmmBsm8SQc6bFCW18y5W3kzjKvwCT1flG-kpIZKYwIasYfouZeHqXaoGFFxJ'\r\n",
    "headers = {\r\n",
    "    \"Authorization\": f\"Bearer {w_token}\"\r\n",
    "}\r\n",
    "endpoint = \tf'https://api.spotify.com/v1/me/playlists'\r\n",
    "# data = urlencode({\"market\": \"Ru\"})\r\n",
    "data = None\r\n",
    "r = requests.get(url(endpoint, data), headers=headers)\r\n",
    "r\r\n",
    "# for /me req token from SpotifyAPI calss not working\r\n"
   ],
   "outputs": [
    {
     "output_type": "execute_result",
     "data": {
      "text/plain": [
       "<Response [200]>"
      ]
     },
     "metadata": {},
     "execution_count": 124
    }
   ],
   "metadata": {}
  },
  {
   "cell_type": "code",
   "execution_count": null,
   "source": [
    "# req to get currently plaing song\r\n",
    "endpoint = \tf'https://api.spotify.com/v1/me/player'\r\n",
    "# data = urlencode({\"market\": \"Ru\"})\r\n",
    "data = None\r\n",
    "r = requests.get(url(endpoint, data), headers=headers)\r\n",
    "print(r)\r\n",
    "# 204 no content\r\n",
    "# parse json with currently playing song\r\n",
    "loaded_json = json.loads(r.text)\r\n",
    "items = loaded_json['item']\r\n",
    "type(loaded_json)\r\n",
    "shuffle = loaded_json['shuffle_state']\r\n",
    "is_playing = loaded_json['is_playing']\r\n",
    "track_id = items['id']\r\n",
    "track_name = items['name']\r\n",
    "\r\n",
    "shuffle, is_playing, track_id, track_name\r\n"
   ],
   "outputs": [
    {
     "output_type": "stream",
     "name": "stdout",
     "text": [
      "<Response [401]>\n"
     ]
    },
    {
     "output_type": "error",
     "ename": "KeyError",
     "evalue": "'item'",
     "traceback": [
      "\u001b[1;31m---------------------------------------------------------------------------\u001b[0m",
      "\u001b[1;31mKeyError\u001b[0m                                  Traceback (most recent call last)",
      "\u001b[1;32m~\\AppData\\Local\\Temp/ipykernel_7676/2805715851.py\u001b[0m in \u001b[0;36m<module>\u001b[1;34m\u001b[0m\n\u001b[0;32m      8\u001b[0m \u001b[1;31m# parse json with currently playing song\u001b[0m\u001b[1;33m\u001b[0m\u001b[1;33m\u001b[0m\u001b[1;33m\u001b[0m\u001b[0m\n\u001b[0;32m      9\u001b[0m \u001b[0mloaded_json\u001b[0m \u001b[1;33m=\u001b[0m \u001b[0mjson\u001b[0m\u001b[1;33m.\u001b[0m\u001b[0mloads\u001b[0m\u001b[1;33m(\u001b[0m\u001b[0mr\u001b[0m\u001b[1;33m.\u001b[0m\u001b[0mtext\u001b[0m\u001b[1;33m)\u001b[0m\u001b[1;33m\u001b[0m\u001b[1;33m\u001b[0m\u001b[0m\n\u001b[1;32m---> 10\u001b[1;33m \u001b[0mitems\u001b[0m \u001b[1;33m=\u001b[0m \u001b[0mloaded_json\u001b[0m\u001b[1;33m[\u001b[0m\u001b[1;34m'item'\u001b[0m\u001b[1;33m]\u001b[0m\u001b[1;33m\u001b[0m\u001b[1;33m\u001b[0m\u001b[0m\n\u001b[0m\u001b[0;32m     11\u001b[0m \u001b[0mtype\u001b[0m\u001b[1;33m(\u001b[0m\u001b[0mloaded_json\u001b[0m\u001b[1;33m)\u001b[0m\u001b[1;33m\u001b[0m\u001b[1;33m\u001b[0m\u001b[0m\n\u001b[0;32m     12\u001b[0m \u001b[0mshuffle\u001b[0m \u001b[1;33m=\u001b[0m \u001b[0mloaded_json\u001b[0m\u001b[1;33m[\u001b[0m\u001b[1;34m'shuffle_state'\u001b[0m\u001b[1;33m]\u001b[0m\u001b[1;33m\u001b[0m\u001b[1;33m\u001b[0m\u001b[0m\n",
      "\u001b[1;31mKeyError\u001b[0m: 'item'"
     ]
    }
   ],
   "metadata": {}
  },
  {
   "cell_type": "code",
   "execution_count": null,
   "source": [
    "# toggle off shuffle \r\n",
    "def toggle_off_shuffle():\r\n",
    "    endpoint = \tf'https://api.spotify.com/v1/me/player/shuffle'\r\n",
    "    data = urlencode({\"state\": \"false\"})\r\n",
    "    r = requests.put(url(endpoint, data), headers=headers)\r\n",
    "    return r\r\n",
    "    # 404 из-за того что ничего не играется\r\n",
    "    # 204 все хорошо\r\n",
    "\r\n",
    "# pause song\r\n",
    "def pause_song():\r\n",
    "    endpoint = \tf'https://api.spotify.com/v1/me/player/pause'\r\n",
    "    data = None\r\n",
    "    r = requests.put(url(endpoint, data), headers=headers)\r\n",
    "    return r\r\n",
    "# pause_song()"
   ],
   "outputs": [],
   "metadata": {}
  },
  {
   "cell_type": "code",
   "execution_count": 83,
   "source": [
    "fav_device_name = \"DESKTOP-BRRGN4B\"\r\n",
    "def get_aval_device(*args, **kwargs):\r\n",
    "    '''get list of avaliable devices'''\r\n",
    "    fav_device_name = kwargs.pop('fav_device_name', None)\r\n",
    "    device_id = None\r\n",
    "    endpoint = 'https://api.spotify.com/v1/me/player/devices'\r\n",
    "    data = None\r\n",
    "    r = requests.get(url(endpoint, data), headers=headers)\r\n",
    "    print(r)\r\n",
    "    loaded_json = json.loads(r.text)\r\n",
    "    devices = loaded_json['devices']\r\n",
    "    # print(devices[0]['name'])\r\n",
    "    for i in devices:\r\n",
    "        if(i['name'] == fav_device_name): device_id = i['id']\r\n",
    "        elif(i['is_active'] == True): device_id = i['id']\r\n",
    "    if( device_id == None): device_id = devices[0]['id']\r\n",
    "    return device_id\r\n",
    "device_id = get_aval_device(fav_device_name=fav_device_name)\r\n",
    "device_id"
   ],
   "outputs": [
    {
     "output_type": "stream",
     "name": "stdout",
     "text": [
      "<Response [200]>\n"
     ]
    },
    {
     "output_type": "execute_result",
     "data": {
      "text/plain": [
       "'b426e9bc6d8a31e8ec45240ed0822f678896ffca'"
      ]
     },
     "metadata": {},
     "execution_count": 83
    }
   ],
   "metadata": {}
  },
  {
   "cell_type": "code",
   "execution_count": 85,
   "source": [
    "\r\n",
    "# play detached song\r\n",
    "def play_detached_song():\r\n",
    "    endpoint = \tf'https://api.spotify.com/v1/me/player/play'\r\n",
    "    playlist_id = '65fjS0iiSX4PhClIzO5aGb'\r\n",
    "    id_data = urlencode({\"device_id\": f\"{device_id}\"})\r\n",
    "    data = {\r\n",
    "        \"context_uri\": f\"spotify:playlist:{playlist_id}\",\r\n",
    "        \"offset\": {\r\n",
    "        \"position\": 0\r\n",
    "        },\r\n",
    "        \"position_ms\": 0\r\n",
    "    }\r\n",
    "    r = requests.put(url(endpoint, id_data), json.dumps(data), headers=headers)\r\n",
    "    return r\r\n",
    "# init of algoritm\r\n",
    "play_detached_song()\r\n",
    "toggle_off_shuffle()\r\n",
    "pause_song()\r\n",
    "# all setup done"
   ],
   "outputs": [
    {
     "output_type": "execute_result",
     "data": {
      "text/plain": [
       "<Response [204]>"
      ]
     },
     "metadata": {},
     "execution_count": 85
    }
   ],
   "metadata": {}
  },
  {
   "cell_type": "code",
   "execution_count": null,
   "source": [
    "# try to play DW playlist\r\n",
    "\r\n",
    "def play_song(position , playlist_id):\r\n",
    "    endpoint = \tf'https://api.spotify.com/v1/me/player/play'\r\n",
    "    # data = '{\\\"context_uri\\\":\\\"spotify:playlist:37i9dQZEVXcWlsrx2rT0bU\\\",\\\"offset\\\":{\\\"position\\\":0},\\\"position_ms\\\":0}'\r\n",
    "    data = {\r\n",
    "        \"context_uri\": f\"spotify:playlist:{playlist_id}\",\r\n",
    "        \"offset\": {\r\n",
    "        \"position\": position\r\n",
    "        },\r\n",
    "        \"position_ms\": 0\r\n",
    "    }\r\n",
    "    r = requests.put(endpoint, json.dumps(data), headers=headers)\r\n",
    "    return r\r\n",
    "play_song(0, DW_id)"
   ],
   "outputs": [
    {
     "output_type": "execute_result",
     "data": {
      "text/plain": [
       "<Response [204]>"
      ]
     },
     "metadata": {},
     "execution_count": 49
    }
   ],
   "metadata": {}
  },
  {
   "cell_type": "code",
   "execution_count": null,
   "source": [
    "\r\n",
    "# req to get currently plaing song\r\n",
    "def get_playback_state():\r\n",
    "    endpoint = \tf'https://api.spotify.com/v1/me/player'\r\n",
    "    # data = urlencode({\"market\": \"Ru\"})\r\n",
    "    data = None\r\n",
    "    r = requests.get(url(endpoint, data), headers=headers)\r\n",
    "    # print(r)\r\n",
    "    # 204 no content\r\n",
    "    # parse json with currently playing song\r\n",
    "    loaded_json__ = json.loads(r.text)\r\n",
    "    items = loaded_json__['item']\r\n",
    "    type(loaded_json)\r\n",
    "    shuffle = loaded_json__['shuffle_state']\r\n",
    "    is_playing = loaded_json__['is_playing']\r\n",
    "    try:\r\n",
    "        track_id = items['id']\r\n",
    "        track_name = items['name']\r\n",
    "    except TypeError:\r\n",
    "        track_id = None\r\n",
    "        track_name = None\r\n",
    "    return track_id, track_name, shuffle, is_playing\r\n",
    "get_playback_state()\r\n",
    "# shuffle, is_playing, track_id, track_name\r\n",
    "#"
   ],
   "outputs": [
    {
     "output_type": "execute_result",
     "data": {
      "text/plain": [
       "('7bPH9DEMykFkUBc9gyMdEA', 'Fabiana', True, True)"
      ]
     },
     "metadata": {},
     "execution_count": 12
    }
   ],
   "metadata": {}
  },
  {
   "cell_type": "code",
   "execution_count": null,
   "source": [
    "# algoritm\r\n",
    "from time import sleep\r\n",
    "DW_likes = []\r\n",
    "for i in range(30):\r\n",
    "    play_song(i, DW_id)\r\n",
    "    sleep(1)\r\n",
    "    # if is_playing == true add to list\r\n",
    "    track_id, track_name, shuffle, is_playing = get_playback_state()\r\n",
    "    if is_playing == True: DW_likes.append(track_id) \r\n",
    "# stop playback\r\n",
    "pause_song()\r\n",
    "\r\n",
    "print(len(DW_likes))\r\n",
    "print(DW_likes)\r\n",
    "shuffle, is_playing, track_id, track_name"
   ],
   "outputs": [
    {
     "output_type": "stream",
     "name": "stdout",
     "text": [
      "19\n",
      "['4xyidZEkDQ5iuY4vU1KtX4', '6ZKiUyhKPQtuSlPGDJ3cqd', '5nqjOFaWYVslOOkvTywK4r', '4Sewap6i8f0tFy5XuIzDR4', '7F5lNOC9AX6NEd9clIlfv7', '5nwpZq0PghPxLS9XNLaZ50', '0G37XrBzAwCcyqFEm43lef', '0Z3azmUTP30fOD1XJ0hSjV', '3LIYHPwzOHTQD40kZtxNTg', '7Byu6uCICDf6QJ66erJrcT', '1gAPybZsQhhr7L8WgDneyj', '7bPH9DEMykFkUBc9gyMdEA', '7w5pYou51rG2j5bzvvsudY', '4QF38bVJbzZXWgS7xFEkY2', '32hsRVoQdJ1qIQBjB811zl', '4VgUowZY6Ua0OOWBClk87p', '6JQkRcDzxr2McQFqHeh9hT', '7in2ya1W9VHYGrS2KqRnG8', '5ybk0RVtJLh63xcoMyLoTQ']\n"
     ]
    },
    {
     "output_type": "execute_result",
     "data": {
      "text/plain": [
       "(False, False, None, None)"
      ]
     },
     "metadata": {},
     "execution_count": 16
    }
   ],
   "metadata": {}
  },
  {
   "cell_type": "code",
   "execution_count": 129,
   "source": [
    "# some prep for playlist creating\r\n",
    "import datetime\r\n",
    "d = datetime.datetime.today()\r\n",
    "# get year, mm, dd\r\n",
    "time_dmy = f'{d.day}-{d.month}-{d.year}'\r\n",
    "# get full time\r\n",
    "time_ymdhms = f'{d.day}-{d.month}-{d.year} {d.hour}:{d.minute:02}:{d.second:02}'\r\n",
    "# get week number\r\n",
    "week = datetime.date(d.year, d.month, d.day).strftime(\"%V\")\r\n",
    "\r\n",
    "DW_likes_name = f'{d.year}_{week}'\r\n",
    "DW_likes_description = f'Creation date: {time_ymdhms}. This playlist was created by robot. Link to github repo /akorzunin/Spotify_DW_playlist_saver'\r\n",
    "\r\n",
    "DW_likes_name, DW_likes_description"
   ],
   "outputs": [
    {
     "output_type": "execute_result",
     "data": {
      "text/plain": [
       "('2021_33',\n",
       " 'Creation date: 17-8-2021 2:30:51. This playlist was created by robot. Link to github repo /akorzunin/Spotify_DW_playlist_saver')"
      ]
     },
     "metadata": {},
     "execution_count": 129
    }
   ],
   "metadata": {}
  },
  {
   "cell_type": "code",
   "execution_count": 131,
   "source": [
    "# create плейлист\r\n",
    "DW_is_public = True\r\n",
    "def create_DW_playlist():\r\n",
    "    endpoint = \tf'https://api.spotify.com/v1/users/{user_id}/playlists'\r\n",
    "    \r\n",
    "    id_data = urlencode({\"user_id\": f\"{user_id}\"})\r\n",
    "    data = {\r\n",
    "    \"name\": DW_likes_name,\r\n",
    "    \"description\": DW_likes_description,\r\n",
    "    \"public\": str(DW_is_public).lower()\r\n",
    "    }\r\n",
    "    \r\n",
    "    r = requests.post(url(endpoint, id_data), json.dumps(data), headers=headers)\r\n",
    "    return r\r\n",
    "resp = create_DW_playlist()\r\n",
    "resp"
   ],
   "outputs": [
    {
     "output_type": "execute_result",
     "data": {
      "text/plain": [
       "<Response [201]>"
      ]
     },
     "metadata": {},
     "execution_count": 131
    }
   ],
   "metadata": {}
  },
  {
   "cell_type": "code",
   "execution_count": 149,
   "source": [
    "# get new playlist id\r\n",
    "loaded_json = json.loads(r.text)\r\n",
    "# loaded_json['items'][-1]\r\n",
    "new_DW_id = dict(resp.headers)['location'].split('/')[-1]\r\n",
    "new_DW_id"
   ],
   "outputs": [
    {
     "output_type": "execute_result",
     "data": {
      "text/plain": [
       "'4IJ5dL9PgrGFOLesMjEaPS'"
      ]
     },
     "metadata": {},
     "execution_count": 149
    }
   ],
   "metadata": {}
  },
  {
   "cell_type": "code",
   "execution_count": 160,
   "source": [
    "# add songs from list to new playlist\r\n",
    "def fill_DW_playlist():\r\n",
    "    endpoint = \tf'\thttps://api.spotify.com/v1/playlists/{new_DW_id}/tracks'\r\n",
    "    \r\n",
    "    # id_data = urlencode({\"playlist_id \": f\"{new_DW_id}\"})\r\n",
    "    id_data = None\r\n",
    "    data = {\"uris\": [f'spotify:track:{i}' for i in DW_likes]}\r\n",
    "\r\n",
    "    r = requests.post(url(endpoint, id_data), json.dumps(data), headers=headers)\r\n",
    "    return r\r\n",
    "fill_DW_playlist()"
   ],
   "outputs": [
    {
     "output_type": "execute_result",
     "data": {
      "text/plain": [
       "<Response [201]>"
      ]
     },
     "metadata": {},
     "execution_count": 160
    }
   ],
   "metadata": {}
  },
  {
   "cell_type": "code",
   "execution_count": 159,
   "source": [
    "# parse dw list into spotify format\r\n",
    "print(DW_likes)\r\n",
    "DW_likes_spt = [f'spotify:track:{i}' for i in DW_likes]\r\n",
    "DW_likes_spt\r\n"
   ],
   "outputs": [
    {
     "output_type": "stream",
     "name": "stdout",
     "text": [
      "['4xyidZEkDQ5iuY4vU1KtX4', '6ZKiUyhKPQtuSlPGDJ3cqd', '5nqjOFaWYVslOOkvTywK4r', '4Sewap6i8f0tFy5XuIzDR4', '7F5lNOC9AX6NEd9clIlfv7', '5nwpZq0PghPxLS9XNLaZ50', '0G37XrBzAwCcyqFEm43lef', '0Z3azmUTP30fOD1XJ0hSjV', '3LIYHPwzOHTQD40kZtxNTg', '7Byu6uCICDf6QJ66erJrcT', '1gAPybZsQhhr7L8WgDneyj', '7bPH9DEMykFkUBc9gyMdEA', '7w5pYou51rG2j5bzvvsudY', '4QF38bVJbzZXWgS7xFEkY2', '32hsRVoQdJ1qIQBjB811zl', '4VgUowZY6Ua0OOWBClk87p', '6JQkRcDzxr2McQFqHeh9hT', '7in2ya1W9VHYGrS2KqRnG8', '5ybk0RVtJLh63xcoMyLoTQ']\n"
     ]
    },
    {
     "output_type": "execute_result",
     "data": {
      "text/plain": [
       "['spotify:track:4xyidZEkDQ5iuY4vU1KtX4',\n",
       " 'spotify:track:6ZKiUyhKPQtuSlPGDJ3cqd',\n",
       " 'spotify:track:5nqjOFaWYVslOOkvTywK4r',\n",
       " 'spotify:track:4Sewap6i8f0tFy5XuIzDR4',\n",
       " 'spotify:track:7F5lNOC9AX6NEd9clIlfv7',\n",
       " 'spotify:track:5nwpZq0PghPxLS9XNLaZ50',\n",
       " 'spotify:track:0G37XrBzAwCcyqFEm43lef',\n",
       " 'spotify:track:0Z3azmUTP30fOD1XJ0hSjV',\n",
       " 'spotify:track:3LIYHPwzOHTQD40kZtxNTg',\n",
       " 'spotify:track:7Byu6uCICDf6QJ66erJrcT',\n",
       " 'spotify:track:1gAPybZsQhhr7L8WgDneyj',\n",
       " 'spotify:track:7bPH9DEMykFkUBc9gyMdEA',\n",
       " 'spotify:track:7w5pYou51rG2j5bzvvsudY',\n",
       " 'spotify:track:4QF38bVJbzZXWgS7xFEkY2',\n",
       " 'spotify:track:32hsRVoQdJ1qIQBjB811zl',\n",
       " 'spotify:track:4VgUowZY6Ua0OOWBClk87p',\n",
       " 'spotify:track:6JQkRcDzxr2McQFqHeh9hT',\n",
       " 'spotify:track:7in2ya1W9VHYGrS2KqRnG8',\n",
       " 'spotify:track:5ybk0RVtJLh63xcoMyLoTQ']"
      ]
     },
     "metadata": {},
     "execution_count": 159
    }
   ],
   "metadata": {}
  },
  {
   "cell_type": "code",
   "execution_count": 122,
   "source": [
    "# remember shuffle state and track to turn back to it when job is done\r\n",
    "user_id"
   ],
   "outputs": [
    {
     "output_type": "execute_result",
     "data": {
      "text/plain": [
       "'sltyljtam3wzcb28yeowsxcn4'"
      ]
     },
     "metadata": {},
     "execution_count": 122
    }
   ],
   "metadata": {}
  }
 ],
 "metadata": {
  "orig_nbformat": 4,
  "language_info": {
   "name": "python",
   "version": "3.9.6",
   "mimetype": "text/x-python",
   "codemirror_mode": {
    "name": "ipython",
    "version": 3
   },
   "pygments_lexer": "ipython3",
   "nbconvert_exporter": "python",
   "file_extension": ".py"
  },
  "kernelspec": {
   "name": "python3",
   "display_name": "Python 3.9.6 64-bit (windows store)"
  },
  "interpreter": {
   "hash": "698d50f44e43cc33e445a1debb6fc81ef4fb9e5b15bde08caf42bd17af266677"
  }
 },
 "nbformat": 4,
 "nbformat_minor": 2
}